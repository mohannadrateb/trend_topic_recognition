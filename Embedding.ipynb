{
 "cells": [
  {
   "cell_type": "code",
   "execution_count": null,
   "metadata": {},
   "outputs": [],
   "source": [
    "from flair.embeddings import WordEmbeddings\n",
    "from flair.data import Sentence\n",
    "\n",
    "# init embedding\n",
    "glove_embedding = WordEmbeddings('de-crawl')"
   ]
  },
  {
   "cell_type": "code",
   "execution_count": null,
   "metadata": {},
   "outputs": [],
   "source": [
    "# english words embedding\n",
    "en_embedding = WordEmbeddings('glove')"
   ]
  },
  {
   "cell_type": "code",
   "execution_count": null,
   "metadata": {},
   "outputs": [],
   "source": [
    "def embed(word):\n",
    "    # create sentence.\n",
    "    sentence = Sentence(word)\n",
    "\n",
    "    # embed a sentence using glove.\n",
    "    glove_embedding.embed(sentence)\n",
    "\n",
    "    # now check out the embedded tokens.\n",
    "    for token in sentence:\n",
    "        #print(token)\n",
    "        #print(token.embedding)\n",
    "        torch_tensor = token.embedding\n",
    "        np_arr = torch_tensor.cpu().detach().numpy()\n",
    "        return(np_arr)    "
   ]
  },
  {
   "cell_type": "code",
   "execution_count": null,
   "metadata": {},
   "outputs": [],
   "source": [
    "def embed_en(word):\n",
    "    # create sentence.\n",
    "    sentence = Sentence(word)\n",
    "\n",
    "    # embed a sentence using glove.\n",
    "    en_embedding.embed(sentence)\n",
    "\n",
    "    # now check out the embedded tokens.\n",
    "    for token in sentence:\n",
    "        #print(token)\n",
    "        #print(token.embedding)\n",
    "        torch_tensor = token.embedding\n",
    "        np_arr = torch_tensor.cpu().detach().numpy()\n",
    "        return(np_arr) "
   ]
  },
  {
   "cell_type": "code",
   "execution_count": null,
   "metadata": {},
   "outputs": [],
   "source": [
    "embed('Alles')"
   ]
  },
  {
   "cell_type": "code",
   "execution_count": null,
   "metadata": {},
   "outputs": [],
   "source": [
    "embed_en('Everything')"
   ]
  },
  {
   "cell_type": "code",
   "execution_count": null,
   "metadata": {},
   "outputs": [],
   "source": [
    "#gloveFile = \"glove.6B.50d.txt\"\n",
    "import numpy as np\n",
    "def loadGloveModel(gloveFile):\n",
    "    print (\"Loading Glove Model\")\n",
    "    with open(gloveFile, encoding=\"utf8\" ) as f:\n",
    "        content = f.readlines()\n",
    "    model = {}\n",
    "    for line in content:\n",
    "        splitLine = line.split()\n",
    "        word = splitLine[0]\n",
    "        embedding = np.array([float(val) for val in splitLine[1:]])\n",
    "        model[word] = embedding\n",
    "    print (\"Done.\",len(model),\" words loaded!\")\n",
    "    return model\n",
    "\n",
    "import re\n",
    "from nltk.corpus import stopwords\n",
    "import pandas as pd\n",
    "\n",
    "\n",
    "def preprocess(raw_text):\n",
    "\n",
    "    # keep only words\n",
    "    letters_only_text = re.sub(\"[^a-zA-Z]\", \" \", raw_text)\n",
    "\n",
    "    # convert to lower case and split \n",
    "    words = letters_only_text.lower().split()\n",
    "\n",
    "    # remove stopwords\n",
    "    stopword_set = set(stopwords.words(\"german\"))\n",
    "    cleaned_words = list(set([w for w in words if w not in stopword_set]))\n",
    "\n",
    "    return cleaned_words\n",
    "\n",
    "def cosine_distance_between_two_words(word1, word2):\n",
    "    import scipy\n",
    "    return (1- scipy.spatial.distance.cosine(embed(word1), embed(word2)))\n",
    "\n",
    "def calculate_heat_matrix_for_two_sentences(s1,s2):\n",
    "    s1 = preprocess(s1)\n",
    "    s2 = preprocess(s2)\n",
    "    result_list = [[cosine_distance_between_two_words(word1, word2) for word2 in s2] for word1 in s1]\n",
    "    result_df = pd.DataFrame(result_list)\n",
    "    result_df.columns = s2\n",
    "    result_df.index = s1\n",
    "    return result_df\n",
    "\n",
    "def cosine_distance_wordembedding_method(s1, s2):\n",
    "    import scipy\n",
    "    vector_1 = np.mean([embed(word) for word in preprocess(s1)],axis=0)\n",
    "    vector_2 = np.mean([embed(word) for word in preprocess(s2)],axis=0)\n",
    "    cosine = scipy.spatial.distance.cosine(vector_1, vector_2)\n",
    "    return(round((1-cosine)*100,2))\n",
    "\n",
    "import seaborn as sns\n",
    "import matplotlib.pyplot as plt    \n",
    "\n",
    "def heat_map_matrix_between_two_sentences(s1,s2):\n",
    "    df = calculate_heat_matrix_for_two_sentences(s1,s2)\n",
    "    fig, ax = plt.subplots(figsize=(5,5)) \n",
    "    ax_blue = sns.heatmap(df, cmap=\"YlGnBu\")\n",
    "    pyplot.show()\n",
    "    # ax_red = sns.heatmap(df)\n",
    "#    print()\n",
    "    return cosine_distance_wordembedding_method(s1, s2)\n",
    "#\n",
    "ss1 = 'ai artificial Intelligence maschinelles Lernen künstliche Intelligenz ki'\n",
    "ss2 = 'IBM und Uni Stuttgart kooperieren um die KI-Forschung in Deutschland voranzutreiben! #ibm4ins #KI #IBMWatson'\n",
    "#model = loadGloveModel(gloveFile)\n",
    "heat_map_matrix_between_two_sentences(ss1,ss2)"
   ]
  },
  {
   "cell_type": "code",
   "execution_count": null,
   "metadata": {},
   "outputs": [],
   "source": [
    "#ss1 is all the themes \n",
    "ss1 = 'ai artificial Intelligence maschinelles Lernen künstliche Intelligenz ki digitalisierung unternehmen'\n",
    "ss2 = 'Kundenservice per Chat über Handy oder Tablet? Bei vielen Direktbanken längst Realität. Welche Vorteile #Chatbots für Kunden und Finanzdienstleister mit sich bringen und wie die Filialbank der Zukunft aussehen könnte, lesen Sie hier. https://t.co/b8p9ccNeh8'\n",
    "\n",
    "#model = loadGloveModel(gloveFile)\n",
    "heat_map_matrix_between_two_sentences(ss1,ss2)"
   ]
  },
  {
   "cell_type": "code",
   "execution_count": null,
   "metadata": {},
   "outputs": [],
   "source": [
    "#gloveFile = \"glove.6B.50d.txt\"\n",
    "import numpy as np\n",
    "import re\n",
    "from nltk.corpus import stopwords\n",
    "import pandas as pd\n",
    "\n",
    "\n",
    "def preprocess_en(raw_text):\n",
    "\n",
    "    # keep only words\n",
    "    letters_only_text = re.sub(\"[^a-zA-Z]\", \" \", raw_text)\n",
    "\n",
    "    # convert to lower case and split \n",
    "    words = letters_only_text.lower().split()\n",
    "\n",
    "    # remove stopwords\n",
    "    stopword_set = set(stopwords.words(\"english\"))\n",
    "    cleaned_words = list(set([w for w in words if w not in stopword_set]))\n",
    "\n",
    "    return cleaned_words\n",
    "\n",
    "def cosine_distance_between_two_words_en(word1, word2):\n",
    "    import scipy\n",
    "    return (1- scipy.spatial.distance.cosine(embed_en(word1), embed_en(word2)))\n",
    "\n",
    "def calculate_heat_matrix_for_two_sentences_en(s1,s2):\n",
    "    s1 = preprocess_en(s1)\n",
    "    s2 = preprocess_en(s2)\n",
    "    result_list = [[cosine_distance_between_two_words_en(word1, word2) for word2 in s2] for word1 in s1]\n",
    "    result_df = pd.DataFrame(result_list)\n",
    "    result_df.columns = s2\n",
    "    result_df.index = s1\n",
    "    return result_df\n",
    "\n",
    "def cosine_distance_wordembedding_method_en(s1, s2):\n",
    "    import scipy\n",
    "    vector_1 = np.mean([embed_en(word) for word in preprocess_en(s1)],axis=0)\n",
    "    vector_2 = np.mean([embed_en(word) for word in preprocess_en(s2)],axis=0)\n",
    "    cosine = scipy.spatial.distance.cosine(vector_1, vector_2)\n",
    "    return(round((1-cosine)*100,2))\n",
    "\n",
    "import seaborn as sns\n",
    "import matplotlib.pyplot as plt\n",
    "\n",
    "def heat_map_matrix_between_two_sentences_en(s1,s2):\n",
    "    df = calculate_heat_matrix_for_two_sentences_en(s1,s2)\n",
    "    #fig, ax = plt.subplots(figsize=(5,5)) \n",
    "    #ax_blue = sns.heatmap(df, cmap=\"YlGnBu\")\n",
    "    # ax_red = sns.heatmap(df)\n",
    "    return cosine_distance_wordembedding_method_en(s1, s2)\n",
    "\n",
    "ss1 = 'ai artificial Intelligence machine learning'\n",
    "ss2 = 'How well do you understand the information &amp; knowledge within your organization?  Are you ready to leverage the benefits of #AI for you stakeholders? https://t.co/wpclrx0nDQ'\n",
    "\n",
    "#model = loadGloveModel(gloveFile)\n",
    "heat_map_matrix_between_two_sentences_en(ss1,ss2)"
   ]
  },
  {
   "cell_type": "code",
   "execution_count": null,
   "metadata": {},
   "outputs": [],
   "source": [
    "import pandas as pd\n",
    "df = pd.read_csv('ai_tweets_date.csv')\n",
    "df_de = df[df['lang']=='de']\n",
    "df_en = df[df['lang']=='en']\n",
    "\n",
    "print(df_de.shape)\n",
    "print(df_en.shape)\n",
    "print(df_de.head())\n",
    "print(df_en.head())"
   ]
  },
  {
   "cell_type": "code",
   "execution_count": 13,
   "metadata": {},
   "outputs": [
    {
     "name": "stderr",
     "output_type": "stream",
     "text": [
      "/home/mendu/.local/lib/python3.8/site-packages/pandas/core/frame.py:4906: SettingWithCopyWarning: \n",
      "A value is trying to be set on a copy of a slice from a DataFrame\n",
      "\n",
      "See the caveats in the documentation: https://pandas.pydata.org/pandas-docs/stable/user_guide/indexing.html#returning-a-view-versus-a-copy\n",
      "  return super().drop(\n"
     ]
    }
   ],
   "source": [
    "df_de.drop('Unnamed: 0', inplace = True, axis = 1)\n",
    "df_en.drop('Unnamed: 0', inplace = True, axis = 1)"
   ]
  },
  {
   "cell_type": "code",
   "execution_count": 14,
   "metadata": {},
   "outputs": [],
   "source": [
    "de_tweets = df_de['all_text'].to_numpy()\n",
    "en_tweets = df_en['all_text'].to_numpy()\n",
    "de_date = df_de['created_at_string'].to_numpy()\n",
    "en_date = df_en['created_at_string'].to_numpy()"
   ]
  },
  {
   "cell_type": "code",
   "execution_count": 32,
   "metadata": {},
   "outputs": [
    {
     "data": {
      "text/plain": [
       "'#IBM und Uni Stuttgart kooperieren um die KI-Forschung in Deutschland voranzutreiben! #ibm4ins #KI #IBMWatson https://t.co/p3TkXT0S2h'"
      ]
     },
     "execution_count": 32,
     "metadata": {},
     "output_type": "execute_result"
    }
   ],
   "source": [
    "# delete later\n",
    "de_tweets[14]"
   ]
  },
  {
   "cell_type": "code",
   "execution_count": 15,
   "metadata": {},
   "outputs": [
    {
     "data": {
      "text/plain": [
       "29.33"
      ]
     },
     "execution_count": 15,
     "metadata": {},
     "output_type": "execute_result"
    }
   ],
   "source": [
    "ss1 = 'ai artificial Intelligence maschinelles Lernen künstliche Intelligenz ki digitalisierung unternehmen'\n",
    "ss2 = 'Black Friday Sale auf alle Elektronik!'\n",
    "\n",
    "#model = loadGloveModel(gloveFile)\n",
    "heat_map_matrix_between_two_sentences(ss1,ss2)\n"
   ]
  },
  {
   "cell_type": "code",
   "execution_count": 39,
   "metadata": {},
   "outputs": [],
   "source": [
    "de_list = []\n",
    "ss1 = 'ai artificial Intelligence maschinelles Lernen künstliche Intelligenz ki'\n",
    "for i in range(len(de_tweets)):\n",
    "    ss2 = de_tweets[i]\n",
    "    x = heat_map_matrix_between_two_sentences(ss1,ss2)\n",
    "    de_list.append(x)\n",
    "    \n",
    "de_relevance = np.array(de_list)"
   ]
  },
  {
   "cell_type": "code",
   "execution_count": 41,
   "metadata": {},
   "outputs": [
    {
     "data": {
      "text/plain": [
       "array([72.49, 72.82, 78.88, 80.11, 77.86])"
      ]
     },
     "execution_count": 41,
     "metadata": {},
     "output_type": "execute_result"
    }
   ],
   "source": [
    "de_relevance[:5]"
   ]
  },
  {
   "cell_type": "code",
   "execution_count": 42,
   "metadata": {},
   "outputs": [
    {
     "data": {
      "text/plain": [
       "array(['Kundenservice per Chat über Handy oder Tablet? Bei vielen Direktbanken längst Realität. Welche Vorteile #Chatbots für Kunden und Finanzdienstleister mit sich bringen und wie die Filialbank der Zukunft aussehen könnte, lesen Sie hier. https://t.co/b8p9ccNeh8',\n",
       "       '(1/2) #Russland: 22 #Metallurgie-Firmen haben es auf die Liste der #systembildenden #Unternehmen geschafft https://t.co/PHCnCl3chr | https://t.co/rEpT0HML4K https://t.co/Dbw1A97r7P',\n",
       "       'Innovationsstrategie des Landes Baden-Württemberg: u.a. mit KI, Digitalisierung und Industrie 4.0 https://t.co/M4BvTCf3Mi #KünstlicheIntelligenz #Wissenschaft #KI #DigitaleTransformation #Politik #Baden-Württemberg #Industrie40 #Innovation #FraunhoferIAO #Forschung',\n",
       "       'Seien Sie bei der ersten Briefing@Breakfast Online Edition am 14.05.2020 dabei. Erfahren Sie, wie auch mittelständische Firmen mit Hilfe der Cloud von KI-Lösungen profitieren können. Anmeldung und alle Infos gibts unter: https://t.co/0F6QoDYLpJ\\n#ITENOS #ITsUs #Cloud #KI',\n",
       "       'Ein wichtiger Appell: Verantwortungsvolle Unternehmen fordern eine ambitionierte Klimapolitik. Wir machen Bestandsgebäude grün (und smart), indem wir mit #AI ihren #CO2 Ausstoß reduzieren. https://t.co/ivcJaYPIyE  @IKEA_Presse @allianz_de @unioninvestment @Stiftung2Grad #COVID19 https://t.co/VTos2my0uT'],\n",
       "      dtype=object)"
      ]
     },
     "execution_count": 42,
     "metadata": {},
     "output_type": "execute_result"
    }
   ],
   "source": [
    "de_tweets[:5]"
   ]
  },
  {
   "cell_type": "code",
   "execution_count": 43,
   "metadata": {},
   "outputs": [],
   "source": [
    "en_list = []\n",
    "ss1 = 'ai artificial Intelligence machine learning'\n",
    "for i in range(len(en_tweets)):\n",
    "    ss2 = en_tweets[i]\n",
    "    x = heat_map_matrix_between_two_sentences_en(ss1,ss2)\n",
    "    en_list.append(x)\n",
    "    \n",
    "en_relevance = np.array(en_list)"
   ]
  },
  {
   "cell_type": "code",
   "execution_count": 44,
   "metadata": {},
   "outputs": [],
   "source": [
    "de_result = pd.DataFrame(list(zip(de_date,de_tweets,de_relevance)), columns = ['date','all_text','relevance'])\n",
    "en_result = pd.DataFrame(list(zip(en_date,en_tweets,en_relevance)), columns = ['date','all_text','relevance'])"
   ]
  },
  {
   "cell_type": "code",
   "execution_count": 45,
   "metadata": {},
   "outputs": [],
   "source": [
    "frames = [de_result, en_result]\n",
    "\n",
    "df_comb = pd.concat(frames)"
   ]
  },
  {
   "cell_type": "code",
   "execution_count": 46,
   "metadata": {},
   "outputs": [],
   "source": [
    "df_comb = df_comb.sort_values(by=\"date\")"
   ]
  },
  {
   "cell_type": "code",
   "execution_count": 48,
   "metadata": {},
   "outputs": [],
   "source": [
    "df_comb.drop('all_text', inplace = True, axis = 1)"
   ]
  },
  {
   "cell_type": "code",
   "execution_count": 49,
   "metadata": {},
   "outputs": [],
   "source": [
    "df_comb = df_comb.groupby('date').mean()"
   ]
  },
  {
   "cell_type": "code",
   "execution_count": 9,
   "metadata": {},
   "outputs": [
    {
     "ename": "NameError",
     "evalue": "name 'df_comb' is not defined",
     "output_type": "error",
     "traceback": [
      "\u001b[0;31m---------------------------------------------------------------------------\u001b[0m",
      "\u001b[0;31mNameError\u001b[0m                                 Traceback (most recent call last)",
      "\u001b[0;32m<ipython-input-9-8c928255fb9a>\u001b[0m in \u001b[0;36m<module>\u001b[0;34m\u001b[0m\n\u001b[1;32m      1\u001b[0m \u001b[0;32mfrom\u001b[0m \u001b[0mmatplotlib\u001b[0m \u001b[0;32mimport\u001b[0m \u001b[0mpyplot\u001b[0m\u001b[0;34m\u001b[0m\u001b[0;34m\u001b[0m\u001b[0m\n\u001b[0;32m----> 2\u001b[0;31m \u001b[0mdf_comb\u001b[0m\u001b[0;34m.\u001b[0m\u001b[0mplot\u001b[0m\u001b[0;34m(\u001b[0m\u001b[0;34m)\u001b[0m\u001b[0;34m\u001b[0m\u001b[0;34m\u001b[0m\u001b[0m\n\u001b[0m\u001b[1;32m      3\u001b[0m \u001b[0mpyplot\u001b[0m\u001b[0;34m.\u001b[0m\u001b[0mshow\u001b[0m\u001b[0;34m(\u001b[0m\u001b[0;34m)\u001b[0m\u001b[0;34m\u001b[0m\u001b[0;34m\u001b[0m\u001b[0m\n",
      "\u001b[0;31mNameError\u001b[0m: name 'df_comb' is not defined"
     ]
    }
   ],
   "source": [
    "from matplotlib import pyplot\n",
    "df_comb.plot()\n",
    "pyplot.show()"
   ]
  },
  {
   "cell_type": "code",
   "execution_count": 52,
   "metadata": {},
   "outputs": [],
   "source": [
    "df_comb.to_csv('ai_relevance.csv')"
   ]
  },
  {
   "cell_type": "code",
   "execution_count": null,
   "metadata": {},
   "outputs": [],
   "source": []
  }
 ],
 "metadata": {
  "kernelspec": {
   "display_name": "Python 3",
   "language": "python",
   "name": "python3"
  },
  "language_info": {
   "codemirror_mode": {
    "name": "ipython",
    "version": 3
   },
   "file_extension": ".py",
   "mimetype": "text/x-python",
   "name": "python",
   "nbconvert_exporter": "python",
   "pygments_lexer": "ipython3",
   "version": "3.8.5"
  }
 },
 "nbformat": 4,
 "nbformat_minor": 4
}
